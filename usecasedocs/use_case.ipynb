{
 "cells": [
  {
   "cell_type": "markdown",
   "metadata": {},
   "source": [
    "## minplascalc use case\n",
    "\n",
    "Some thoughts on how people might use the minplascalc module for the most part in their workflow."
   ]
  },
  {
   "cell_type": "code",
   "execution_count": null,
   "metadata": {},
   "outputs": [],
   "source": [
    "import minplascalc as mpc"
   ]
  },
  {
   "cell_type": "markdown",
   "metadata": {},
   "source": [
    "### Database interface\n",
    "\n",
    "Return an dictionary- or list-like object containing representations of all species which are available in the user's local database, for the user to interact with in order to build mixtures and do calculations on them:"
   ]
  },
  {
   "cell_type": "code",
   "execution_count": null,
   "metadata": {},
   "outputs": [],
   "source": [
    "mpcdata = mpc.database()"
   ]
  },
  {
   "cell_type": "markdown",
   "metadata": {},
   "source": [
    "We should be able to show a string(?) list of keys representing species available in the mpcdb object, eg:\n",
    "\n",
    "```\n",
    "['e', 'N2', 'N2+', 'N', 'N+', 'N++', 'O2', 'O2+', 'O', 'O+', ...]\n",
    "```\n",
    "\n",
    "It would be nice if the list could also take a pattern for matching/filtering, e.g. \"give me a sublist of all species containing oxygen\", but that's a nice-to-have and not critical (and could be done by the user with list comprehension on the mpcdata object, I guess)."
   ]
  },
  {
   "cell_type": "code",
   "execution_count": null,
   "metadata": {},
   "outputs": [],
   "source": [
    "mpcdata.list()\n",
    "mpcdata.list(pattern_to_match)"
   ]
  },
  {
   "cell_type": "markdown",
   "metadata": {},
   "source": [
    "If a species is not available in the local database but the user has data for it (or knows it exists on NIST), there should be methods for adding it into the JSON stash/relational DB/whatever disk data structure lies underneath minplascalc:"
   ]
  },
  {
   "cell_type": "code",
   "execution_count": null,
   "metadata": {},
   "outputs": [],
   "source": [
    "mpcdata.add_monatomic_species(string_key, species, properties, here)\n",
    "mpcdata.add_diatomic_species(string_key, species, properties, here)\n",
    "mpcdata.add_monatomic_species_from_nist(string_key, web-scraping, arguments, here)"
   ]
  },
  {
   "cell_type": "markdown",
   "metadata": {},
   "source": [
    "### Species objects\n",
    "\n",
    "Instances of the `mpc.Species` object associated with a text key should be easily creatable from the database object, both explicitly and inside the minplascalc module's own code:"
   ]
  },
  {
   "cell_type": "code",
   "execution_count": null,
   "metadata": {},
   "outputs": [],
   "source": [
    "my_sp = mpcdata['O2']"
   ]
  },
  {
   "cell_type": "markdown",
   "metadata": {},
   "source": [
    "The Species object should probably expose nothing to the user except as read-only via a repr print method. Apart from testing or idle curiosity, it's hard to imagine any cases where end users would want to create a Species object in isolation, or access its various properties or methods for partition functions etc. These are always going to be called by higher-level calculations related to mixtures, not in their own right."
   ]
  },
  {
   "cell_type": "code",
   "execution_count": null,
   "metadata": {},
   "outputs": [],
   "source": [
    "my_sp. # Pressing tab should probably show nothing...\n",
    "print(my_sp) # Show a nice formatted representation"
   ]
  },
  {
   "cell_type": "markdown",
   "metadata": {},
   "source": [
    "### Plasma mixture calculations\n",
    "\n",
    "This is really the reason that people will use minplascalc - to create mixtures of plasma species, and then do thermodynamic and thermophysical property calculations on those mixtures. The background machinery necessary to make this happen won't interest them overly much for the most part.\n",
    "\n",
    "So what defines a \"mixture\"? It's basically a group of plasma species that can interact and react thermodynamically with each other to form an equilibrium composition, just like any normal chemical mixture. In order to calculate the equilibrium composition (and hence all the other thermodynamic and thermophysical properties of interest, which depend on the composition) we need to tell minplascalc which species are present, the temperature and pressure, and some mass balance information to constrain the minimisation problem; this latter is generally given as an initial gas composition at room temperature or some similar standard condition.\n",
    "\n",
    "A typical minplascalc user can be expected to be competent enough to know how to select all the species which are important to their particular problem, and spec an appropriate initial composition by mole fraction. We'd generally want to then proceed directly to doing property calculations using that mixture spec. At the moment we do this by creating an intermediate `mpc.Mixture` object which holds the species present as well as setting up some useful variables and placeholders for the Gibbs free energy minimisation calc. The Mixture object is currently generated from a JSON file which as discussed is probably dumb for a number of reasons - it would be cleaner to just use a standard Python data structure like a dictionary or similar, as shown in the following cell.\n",
    "\n",
    "Whether the Mixture class actually needs to be exposed explicitly at all is also open to debate - perhaps it would be more transparent for the user to simply call the property calculation functions directly with the initial composition and state variables as arguments, with the `mpc.Mixture` object created internally as needed?"
   ]
  },
  {
   "cell_type": "code",
   "execution_count": null,
   "metadata": {},
   "outputs": [],
   "source": [
    "oxygen_initial_comp = {'O2': 1, 'O2+': 0, 'O': 0, 'O+': 0, 'O++': 0, 'e': 0}\n",
    "oxygen_mix = mpc.Mixture(oxygen_initial_comp, T=10000, P=101325)\n",
    "\n",
    "oxygen_mix. # Pressing tab should(?) show the methods available for equilibrium \n",
    "            # composition, density, enthalpy, heat capacity, and any other\n",
    "            # calculations available.\n",
    "            # It should also give access to properties such as the species in \n",
    "            # the mixtures (as Species objects), the temperature and pressure,\n",
    "            # (other...?)"
   ]
  },
  {
   "cell_type": "markdown",
   "metadata": {},
   "source": [
    "It's uncommon to want to see the equilibrium composition in isolation (it's usually a means to an end on the way to calculating a more useful property), but every now and then it's a good sanity check that plasma engineers might want to use - so that probably needs to be exposed directly in some way. In the example below, `eq_comp` would be a data structure similar to `oxygen_initial_comp` above... basically the user would appreciate having some way of getting at the actual equilibrium composition values calculated by the Gibbs free energy minimiser."
   ]
  },
  {
   "cell_type": "code",
   "execution_count": null,
   "metadata": {},
   "outputs": [],
   "source": [
    "oxygen_initial_comp = {'O2': 1, 'O2+': 0, 'O': 0, 'O+': 0, 'O++': 0, 'e': 0}\n",
    "oxygen_mix = mpc.Mixture(oxygen_initial_comp, T=10000, P=101325)\n",
    "\n",
    "eq_comp = oxygen_mix.equilibrium_composition()\n",
    "# or as a module-level function...\n",
    "eq_comp = mpc.equilibrium_composition(oxygen_mix)\n",
    "# or as a module-level function with no explicit Mixture object...\n",
    "eq_comp = mpc.equilibrium_composition(oxygen_initial_comp, T=10000, P=101325)"
   ]
  },
  {
   "cell_type": "markdown",
   "metadata": {},
   "source": [
    "The mixture property calculators *definitely* need to be exposed directly, these are the main raison d'être for minplascalc. Again it's less common to perform a scalar calculation at a single temperature and pressure, but it's often a good sanity check (in addition to being useful for unit testing and accuracy comparisons etc):"
   ]
  },
  {
   "cell_type": "code",
   "execution_count": null,
   "metadata": {},
   "outputs": [],
   "source": [
    "oxygen_initial_comp = {'O2': 1, 'O2+': 0, 'O': 0, 'O+': 0, 'O++': 0, 'e': 0}\n",
    "oxygen_mix = mpc.Mixture(oxygen_initial_comp, T=10000, P=101325)\n",
    "\n",
    "rho = oxygen_mix.density()\n",
    "# or as a module-level function...\n",
    "rho = mpc.density(oxygen_mix)\n",
    "# or as a module-level function with no explicit Mixture object...\n",
    "rho = mpc.density(oxygen_initial_comp, T=10000, P=101325)\n",
    "\n",
    "Cp = oxygen_mix.heat_capacity()\n",
    "# or as a module-level function...\n",
    "Cp = mpc.heat_capacity(oxygen_mix)\n",
    "# or as a module-level function with no explicit Mixture object...\n",
    "Cp = mpc.heat_capacity(oxygen_initial_comp, T=10000, P=101325)"
   ]
  },
  {
   "cell_type": "markdown",
   "metadata": {},
   "source": [
    "I foresee the main use case for miplascalc being running calculations of plasma properties in batch, across a range of state variable values. Output should probably be in standard Python data structures of some sort which the user can then take forward into their own code:"
   ]
  },
  {
   "cell_type": "code",
   "execution_count": null,
   "metadata": {},
   "outputs": [],
   "source": [
    "import numpy as np\n",
    "temperatures = np.linspace(2000, 25000, 100)\n",
    "oxygen_initial_comp = {'O2': 1, 'O2+': 0, 'O': 0, 'O+': 0, 'O++': 0, 'e': 0}\n",
    "\n",
    "oxygen_mixes = [mpc.Mixture(oxygen_initial_comp, T=tmp, P=101325) for tmp in temperatures]\n",
    "rhos = [mym.density() for mym in oxygen_mixes]\n",
    "# or as a module-level function...\n",
    "oxygen_mixes = [mpc.Mixture(oxygen_initial_comp, T=tmp, P=101325) for tmp in temperatures]\n",
    "rhos = [mpc.density(mym) for mym in oxygen_mixes]\n",
    "# or as a module-level function with no explicit Mixture objects...\n",
    "rhos = [mpc.density(oxygen_initial_comp, T=tmp, P=101325) for tmp in temperatures]"
   ]
  },
  {
   "cell_type": "markdown",
   "metadata": {},
   "source": [
    "The user will typically then go away and do their own thing with the `temperatures` and `rhos` lists such as write out to files of various formats, draw graphs, and so on. Some utilities in minplascalc to assist with those tasks might be nice to have here, but I'm happy for us to assume that the user will know best what to do with their results from this point on."
   ]
  }
 ],
 "metadata": {
  "kernelspec": {
   "display_name": "Python 3",
   "language": "python",
   "name": "python3"
  },
  "language_info": {
   "codemirror_mode": {
    "name": "ipython",
    "version": 3
   },
   "file_extension": ".py",
   "mimetype": "text/x-python",
   "name": "python",
   "nbconvert_exporter": "python",
   "pygments_lexer": "ipython3",
   "version": "3.6.6"
  }
 },
 "nbformat": 4,
 "nbformat_minor": 2
}
