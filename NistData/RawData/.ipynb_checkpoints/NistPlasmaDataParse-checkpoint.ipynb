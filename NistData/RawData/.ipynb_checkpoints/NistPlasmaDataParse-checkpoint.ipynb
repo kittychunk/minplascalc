{
 "cells": [
  {
   "cell_type": "code",
   "execution_count": 15,
   "metadata": {
    "collapsed": false
   },
   "outputs": [],
   "source": [
    "def nistParse(infile, outfile):\n",
    "    with open(infile) as f:\n",
    "        data = f.readlines()\n",
    "\n",
    "    linedata = []\n",
    "    for datastr in data:\n",
    "        datastr2 = \"\".join(datastr.split())\n",
    "        datastr2 = datastr2.replace(\"+x\", \"\")\n",
    "        datastr2 = datastr2.replace(\"?\", \"\")\n",
    "        datasplit = datastr2.split(\"|\")\n",
    "\n",
    "        if datasplit[2] != \"\" and datasplit[3] != \"\":\n",
    "            if \"/\" in datasplit[2]:\n",
    "                jsplit = datasplit[2].split(\"/\")\n",
    "                jval = float(jsplit[0]) / float(jsplit[1])\n",
    "            else:\n",
    "                jval = float(datasplit[2])\n",
    "            linedata.append(str(jval) + \",\" + str(float(datasplit[3])) + \"\\n\")\n",
    "\n",
    "    with open(outfile, \"w\") as f:\n",
    "        for linedatastr in linedata:\n",
    "            f.write(linedatastr)\n"
   ]
  },
  {
   "cell_type": "code",
   "execution_count": 16,
   "metadata": {
    "collapsed": true
   },
   "outputs": [],
   "source": [
    "nistParse(\"OI.csv\", \"OI_parsed.csv\")\n",
    "nistParse(\"OII.csv\", \"OII_parsed.csv\")\n",
    "nistParse(\"OIII.csv\", \"OIII_parsed.csv\")\n"
   ]
  },
  {
   "cell_type": "code",
   "execution_count": null,
   "metadata": {
    "collapsed": true
   },
   "outputs": [],
   "source": []
  }
 ],
 "metadata": {
  "anaconda-cloud": {},
  "kernelspec": {
   "display_name": "Python 3",
   "language": "python",
   "name": "python3"
  },
  "language_info": {
   "codemirror_mode": {
    "name": "ipython",
    "version": 3
   },
   "file_extension": ".py",
   "mimetype": "text/x-python",
   "name": "python",
   "nbconvert_exporter": "python",
   "pygments_lexer": "ipython3",
   "version": "3.5.2"
  }
 },
 "nbformat": 4,
 "nbformat_minor": 0
}
