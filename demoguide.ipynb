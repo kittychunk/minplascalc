{
 "cells": [
  {
   "cell_type": "markdown",
   "metadata": {},
   "source": [
    "# Demo guide for package minplascalc\n",
    "\n",
    "Welcome to minplascalc, a Python 3 package to assist with calculations of equilibrium compositions and thermophysical properties of thermal plasmas of the sort typically encountered in metallurgical processing applications.\n",
    "\n",
    "## 1. Target audience\n",
    "\n",
    "Plasma technology researchers and professionals with a basic knowledge of the Python programming language.\n",
    "\n",
    "## 2. Description\n",
    "\n",
    "Ionised gases or <i>plasmas</i> are used in many industrial applications such as arc welding, plasma spraying, and electric furnace metallurgy. Engineering plasmas typically operate at atmospheric pressures and temperatures of the order of 10<sup>4</sup> K. Thermal plasmas of the sort considered here are assumed to be in local thermodynamic equilibirum (LTE), meaning that a single unique temperature can be used to describe them (as opposed to two-temperature plasmas in which the electron temperature is distinct from the heavy-particle temperature). A major advantage of the LTE approximation is that all thermophysical properties of an equilibrium mixture of an arbitrary number of plasma species can be expressed as (complicated) functions of temperature and pressure only.\n",
    "\n",
    "Knowledge of these thermophysical properties is of great value to engineers working in plasma technology. Such information is useful for simple design calculations, and is necessary input data for computational fluid dynamics and magnetohydrodynamics models of plasma systems. The calculation of composition and thence the thermophysical properties of a thermal plasma given some fundamental information about the species present is a well-understood but mathematically and numerically complex process - it is prone to error if performed manually, hence the need for this tool.\n",
    "\n",
    "Things you <b>can</b> calculate with minplascalc:\n",
    "* Statistical mechanics partition functions for individual species using information about the energy levels and excited states\n",
    "* Equilibrium plasma composition in terms of number densities of a specified mixture of species, using the principle of Gibbs free energy minimisation at a specified temperature and pressure\n",
    "* Density $\\rho$, (relative) enthalpy h, and heat capacity C<sub>P</sub> at equilibrium conditions\n",
    "\n",
    "Things you <b>can't</b> calculate with minplascalc:\n",
    "* Compositions or thermophysical properties of two-temperature plasmas\n",
    "* C<sub>P</sub> for arbitrary non-LTE compositions\n",
    "* Plasmas of complex molecules or molecular ions consisting of more than two atoms\n",
    "* Plasmas involving negatively-charged ions\n",
    "* Transport or thermal radiation properties (see future versions though)\n",
    "\n",
    "The package also includes some basic tools to format and import data for individual species obtained from the NIST Atomic Spectra and Chemistry WebBook databases, and store it for use by future simulations.\n",
    "\n",
    "## 3. Worked examples\n",
    "\n",
    "Some examples of how to use various parts of the minplascalc package follows.\n",
    "\n",
    "*General utilities amd species calculations*\n",
    "* <a href=\"#3.1a\">Adding a new monatomic species data entry</a>\n",
    "* <a href=\"#3.1b\">Adding a new diatomic species data entry</a>\n",
    "* <a href=\"#3.2\">Calculate an internal partition function</a>\n",
    "\n",
    "*Example 1 - oxygen plasma*\n",
    "* <a href=\"#3.3\">Calculate an equilibrium composition</a>\n",
    "* <a href=\"#3.4\">Calcluate density and heat capacity at equilibrium</a>\n",
    "\n",
    "*Example 2 - silica & carbon monoxide plasma*\n",
    "* <a href=\"#3.5\">Calculate an equilibrium composition</a>\n",
    "* <a href=\"#3.6\">Calcluate density and heat capacity at equilibrium</a>"
   ]
  },
  {
   "cell_type": "markdown",
   "metadata": {},
   "source": [
    "### 3.1 Adding a new species entry to your local data store\n",
    "\n",
    "If you would like to do calculations using a plasma species that you haven't used before, you will need to generate a minplascalc data entry for it first. You only need to do this <i>once</i> - minplascalc will store the species data in a plain-text file formatted using JSON syntax, and it will then be available for use in any of your future calculations.\n",
    "\n",
    "<a id=\"3.1a\"></a>\n",
    "#### 3.1a Add a monatomic species\n",
    "\n",
    "minplascalc has built-in readers for handling data obtained from the energy levels section of NIST Atomic Spectra Database, which can be found at http://physics.nist.gov/PhysRefData/ASD/levels_form.html. The landing page looks like this:\n",
    "\n",
    "<img src=\"demoimg/asd_landing_page.png\" alt=\"NIST ASD landing page\" style=\"width: 800px;\"/>\n",
    "\n",
    "You must then specify the atom or ion that you want to retrieve energy level information for. Let's get the data for the singly-charged oxygen cation species O<sup>+</sup>, which is \"O II\" in spectrographic terminology. Enter the identifier in the Spectrum field on the form:\n",
    "\n",
    "<img src=\"demoimg/spectrum_identification.png\" alt=\"Spectrum identification\" style=\"width: 500px;\"/>\n",
    "\n",
    "Make sure you set Level Units to \"cm-1\", Format Output to \"ASCII (text)\", and uncheck everything in the output section except Level and J, like this:\n",
    "\n",
    "<img src=\"demoimg/retrieval_settings.png\" alt=\"Spectrum identification\" style=\"width: 500px;\"/>\n",
    "\n",
    "Click the Retrieve Data button. You should see a page with the energy levels listed in a plain-text table. Click and drag to select everything from the first energy level line down to the last one before the first ionisation energy entry (these have no J value and are separated in boxes of ASCII dashes). While you're there, make a note of the ionisation energy value.\n",
    "\n",
    "<table>\n",
    "<td><img src=\"demoimg/level_data_1.png\" alt=\"Spectrum identification\" style=\"height: 400px;\"/>\n",
    "<td><img src=\"demoimg/level_data_2.png\" alt=\"Spectrum identification\" style=\"height: 400px;\"/>\n",
    "<td><img src=\"demoimg/level_data_3.png\" alt=\"Spectrum identification\" style=\"height: 400px;\"/>\n",
    "</table>\n",
    "\n",
    "Copy and paste the selected content into a temporary text file. This has already been done for the oxygen cation, and the raw NIST data is located at minplascalc/data/species_raw/nist_O+. Running the following code snippet will add a data entry for the O<sup>+</sup> ion to minplascalc:"
   ]
  },
  {
   "cell_type": "code",
   "execution_count": 1,
   "metadata": {
    "collapsed": true
   },
   "outputs": [],
   "source": [
    "import minplascalc as mpc\n",
    "\n",
    "mpc.buildMonatomicSpeciesJSON(\n",
    "    name=\"O+\",\n",
    "    stoichiometry={\"O\": 1},\n",
    "    molarMass=0.0159994,\n",
    "    chargeNumber=1,\n",
    "    ionisationEnergy=283270.9,\n",
    "    nistDataFile=\"minplascalc/data/species_raw/nist_O+\")\n"
   ]
  },
  {
   "cell_type": "markdown",
   "metadata": {},
   "source": [
    "What's happening here? First we import the minplascalc package, then we call a function to build and save the species data entry for us. \n",
    "\n",
    "The function takes as arguments the species name (which is also used as the data entry's associated file name), a small dictionary describing the elemental stoichiometry of the species (in this case a single oxygen atom), the molar mass in kg/mol, the charge on the species in units of the fundamental charge (in this case 1 because O<sup>+</sup> is singly charged), the ionisation energy of the species in cm<sup>-1</sup>, and the path to the energy level text file we just generated from the NIST site. Internally to minplascalc the function reads the energy levels from the text file, assembles the species information into a Python dictionary format, and writes it out to a JSON file called \"O+.json\" on the path you're running this notebook from. Once you're done the JSON file should be moved to your local minplascalc data storage path.\n",
    "\n",
    "After this process it will be possible to create an O<sup>+</sup> species object in any minplascalc calculation by importing it using either the explicit path to the JSON file, or (preferably) simply the name of the species provided the JSON file is stored in any of the standard minplascalc data paths - see later demos for examples."
   ]
  },
  {
   "cell_type": "markdown",
   "metadata": {},
   "source": [
    "<a id=\"3.1b\"></a>\n",
    "#### 3.1b Diatomic species\n",
    "\n",
    "The procedure for generating a minplascalc data entry for a new diatomic species is more manual since the data required must be retrieved from several different locations in NIST. The majority comes from the NIST Chemistry WebBook, which is available at http://webbook.nist.gov/chemistry/form-ser/. The landing page looks like this:\n",
    "\n",
    "[TODO]"
   ]
  },
  {
   "cell_type": "markdown",
   "metadata": {
    "collapsed": true
   },
   "source": [
    "<a id=\"3.2\"></a>\n",
    "### 3.2 Calculating partition functions for a single species\n",
    "\n",
    "[TODO]"
   ]
  },
  {
   "cell_type": "markdown",
   "metadata": {},
   "source": [
    "<a id=\"3.3\"></a>\n",
    "### 3.3 Calculating the composition of an equilibrium plasma\n",
    "\n",
    "[TODO]"
   ]
  },
  {
   "cell_type": "markdown",
   "metadata": {},
   "source": [
    "<a id=\"3.4\"></a>\n",
    "### 3.4 Calculating the density and heat capacity of an equilibrium plasma\n",
    "\n",
    "[TODO]"
   ]
  },
  {
   "cell_type": "code",
   "execution_count": null,
   "metadata": {
    "collapsed": true
   },
   "outputs": [],
   "source": []
  }
 ],
 "metadata": {
  "kernelspec": {
   "display_name": "Python 3",
   "language": "python",
   "name": "python3"
  },
  "language_info": {
   "codemirror_mode": {
    "name": "ipython",
    "version": 3
   },
   "file_extension": ".py",
   "mimetype": "text/x-python",
   "name": "python",
   "nbconvert_exporter": "python",
   "pygments_lexer": "ipython3",
   "version": "3.5.2"
  }
 },
 "nbformat": 4,
 "nbformat_minor": 1
}
