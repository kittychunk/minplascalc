{
 "cells": [
  {
   "cell_type": "markdown",
   "metadata": {},
   "source": [
    "# Demo guide for package minplascalc\n",
    "\n",
    "Welcome to minplascalc, a Python 3 package to assist with calculations of equilibrium compositions and thermophysical properties of thermal plasmas of the sort typically encountered in metallurgical processing applications.\n",
    "\n",
    "## Quick links\n",
    "\n",
    "*Worked examples on general utilities and species calculations*\n",
    "* <a href=\"#3.1a\">Add a new monatomic species data entry</a>\n",
    "* <a href=\"#3.1b\">Add a new diatomic species data entry</a>\n",
    "* <a href=\"#3.2\">Calculate species partition functions</a>\n",
    "\n",
    "*Worked example 1 - oxygen plasma*\n",
    "* <a href=\"#3.3\">Calculate an equilibrium composition</a>\n",
    "* <a href=\"#3.4\">Calcluate density and heat capacity at equilibrium</a>\n",
    "\n",
    "*Worked example 2 - silicon & carbon monoxide plasma*\n",
    "* <a href=\"#3.5\">Calculate an equilibrium composition</a>\n",
    "* <a href=\"#3.6\">Calcluate density and heat capacity at equilibrium</a>\n",
    "\n",
    "## 1. Target audience\n",
    "\n",
    "Plasma technology researchers and professionals with a basic knowledge of the Python programming language.\n",
    "\n",
    "## 2. Description\n",
    "\n",
    "Ionised gases or <i>plasmas</i> are used in many industrial applications such as arc welding, plasma spraying, and electric furnace metallurgy. Engineering plasmas typically operate at atmospheric pressures and temperatures of the order of 10<sup>4</sup> K. Thermal plasmas of the sort considered here are assumed to be in local thermodynamic equilibirum (LTE), meaning that a single unique temperature can be used to describe them (as opposed to two-temperature plasmas in which the electron temperature is distinct from the heavy-particle temperature). A major advantage of the LTE approximation is that all thermophysical properties of an equilibrium mixture of an arbitrary number of plasma species can be expressed as (complicated) functions of temperature and pressure only.\n",
    "\n",
    "Knowledge of these thermophysical properties is of great value to engineers working in plasma technology. Such information is useful for simple design calculations, and is necessary input data for computational fluid dynamics and magnetohydrodynamics models of plasma systems. The calculation of composition and thence the thermophysical properties of a thermal plasma given some fundamental information about the species present is a well-understood but mathematically and numerically complex process - it is prone to error if performed manually, hence the need for this tool.\n",
    "\n",
    "Things you <b>can</b> calculate with minplascalc:\n",
    "* Statistical mechanics partition functions for individual species using information about the energy levels and excited states\n",
    "* Equilibrium plasma composition in terms of number densities of a specified mixture of species, using the principle of Gibbs free energy minimisation at a specified temperature and pressure\n",
    "* Density $\\rho$, (relative) enthalpy $H$, and heat capacity $C_P$ at equilibrium conditions\n",
    "\n",
    "Things you <b>can't</b> calculate with minplascalc:\n",
    "* Compositions or thermophysical properties of two-temperature plasmas\n",
    "* $C_P$ for arbitrary non-LTE compositions\n",
    "* Plasmas of complex molecules or molecular ions consisting of more than two atoms\n",
    "* Plasmas involving negatively-charged ions\n",
    "* Transport or thermal radiation properties (see future versions though)\n",
    "\n",
    "The package also includes some basic tools to format and import data for individual species obtained from the NIST Atomic Spectra and Chemistry WebBook databases, and store it for use by future simulations.\n",
    "\n",
    "### 2.1 Partition functions\n",
    "\n",
    "The starting point for thermal plasma calculations is generally the statistical mechanics partition functions for each of the species present. Users of minplascalc should not normally need to access these functions explicitly as they are incorporated directly into the composition and thermophysical property calculators, but they are exposed in the API in case the need to do so ever arises.\n",
    "\n",
    "Recall that the partition function for a particular species is a description of the statistical properties of a collection of atoms or molecules of that species at thermodynamic equilibrium. Partition functions are normally presented as the sum of weighted state probabilities across the possible energy states of the system. In general at moderate plasma temperatures up to a few 10<sup>4</sup> K, a species' total partition function $Q_{tot}$ can be written as the product of several unique partition functions arising from different quantum mechanical phenomena (assuming weak state coupling and no contribution from nuclear states):\n",
    "\n",
    "$Q_{tot} = Q_t Q_{int} = Q_t Q_e Q_v Q_r$\n",
    "\n",
    "Here, $Q_t$ is the translational partition function due to the species' ability to move around in space, $Q_{int}$ is the internal partition function due to energy states internal to the particles of the species, $Q_e$ is the electronic partition function due to different possible arrangements of the electron structure of the species, $Q_v$ is the vibrational partition function due to the ability of the bonds in a polyatomic species to vibrate at different energy levels, and $Q_r$ is the rotational partition function due to a species' ability to rotate around its center of mass at different energy levels.\n",
    "\n",
    "minplascalc distinguishes between three different types of species - monatomic (charged or uncharged single atoms), diatomic (charged or uncharged bonded pairs of atoms), and free electrons. The formulae used for the various partition functions for each are shown in the table below.\n",
    "\n",
    "<table style=\"width: 80%;\">\n",
    "<tr><td>*Partition Function*<td>*Monatomic*<td>*Diatomic*<td>*Electron*<tr>\n",
    "<td>$Q_t$, m<sup>-3</sup>\n",
    "<td>$${\\left ( \\frac{2 \\pi m_s k_B T}{h^2}\\right )}^{\\frac{3}{2}}$$\n",
    "<td>$${\\left ( \\frac{2 \\pi m_s k_B T}{h^2}\\right )}^{\\frac{3}{2}}$$\n",
    "<td>$${\\left ( \\frac{2 \\pi m_e k_B T}{h^2}\\right )}^{\\frac{3}{2}}$$<tr>\n",
    "<td>$Q_e$, dim'less\n",
    "<td>$$\\sum_j g_j \\exp \\left(-\\frac{E_j}{k_B T}\\right)$$\n",
    "<td>$$g_0$$\n",
    "<td>$$2$$<tr>\n",
    "<td>$Q_v$, dim'less\n",
    "<td>$$1$$\n",
    "<td>$$\\frac{1}{1-\\exp\\left( -\\frac{\\omega_e}{k_B T} \\right)}$$\n",
    "<td>$$1$$<tr>\n",
    "<td>$Q_r$, dim'less\n",
    "<td>$$1$$\n",
    "<td>$$\\frac{k_B T}{\\sigma_s B_e}$$\n",
    "<td>$$1$$</table>\n",
    "\n",
    "Here $m_s$ and $m_e$ are the mass of one particle of the species concerned, $k_B$ is Boltzmann's constant, $T$ is temperature, $h$ is Planck's constant, $g_j$ and $E_j$ are the quantum degeneracy and energy of electronic energy level j (with j = 0 being the ground state), and $\\omega_e$, $\\sigma_s$ and $B_e$ are the vibrational, symmetry, and rotational constants respectively for a diatomic molecule.\n",
    "\n",
    "### 2.2 Ionisation energy lowering\n",
    "\n",
    "In general the ionisation energy required to remove a single electron from a particle of a species is a constant for that particular species when considered in isolation. However, in a mixture of different species and free electrons, the ionisation energy is lowered by a small amount due to local electrostatic shielding effects. This affects both the calculation of the partition functions (the summation of electronic state contributions for monatomic species ignores states with energies above the lowered ionisation energy) and the calculation of equilibrium plasma compositions (the equilibrium relationships are defined using the reference energy levels for each species, which in turn depend on the lowered ionisation energies). Ionisation energy lowering is a complex problem in plasma physics, but there exist many approximate methods for quantifying this effect using the theory of Debye-shielded potentials. Provided the same method is used for all species, the calculation errors generally remain small. The ionisation energy lowering calculation is not exposed to the user in the minplascalc API, since it is only required internally for calculation of species partition functions and LTE compositions.\n",
    "\n",
    "minplascalc uses the analytical solution of Stewart and Pyatt 1966 (see references in README). In this method, the ionisation energy lowering for each species is calculated explicitly using:\n",
    "\n",
    "$$\\frac{\\delta E_i}{k_B T} = \\frac{\\left [ \\left (\\frac{a_i}{\\lambda_D} \\right )^3 + 1 \\right ]^\\frac{2}{3} -1}{2 \\left( z^*+1 \\right)}$$\n",
    "\n",
    "where:\n",
    "\n",
    "<table style=\"width: 100%;\"><tr>\n",
    "<td>$$z^* = \\left ( \\frac{\\sum z_j^2 n_j}{\\sum z_j n_j} \\right )_{j \\neq e}$$\n",
    "<td>$$a_i = \\left ( \\frac{3 \\left (z_i + 1 \\right )}{4 \\pi n_e} \\right )^\\frac{1}{3}$$\n",
    "<td>$$\\lambda_D = \\left ( \\frac{k_B T}{4 \\pi e^2 \\left ( z^* + 1 \\right ) n_e} \\right )^\\frac{1}{2}$$\n",
    "</table>\n",
    "\n",
    "Here, $\\delta E_i$ is the amount the ionisation energy of species i is lowered by in J, $a_i$ is the ion-sphere radius of species i, $\\lambda_D$ is the Debye sphere radius, $z^*$ is the effective charge number in a plasma consisting of a mixture of species of different charges, $z_j$ is the charge number of species j, $n_j$ is the number density (particles per cubic meter) of species j, and $e$ is the electron charge.\n",
    "\n",
    "### 2.3 Calculation of LTE compositions\n",
    "\n",
    "Given temperature, pressure, and a set of species present in a plasma (and some information about the elemental composition of the mixture if more than one element is present), the number density of each species at thermodynamic equilibrium can be calculated using the principle of Gibbs free energy minimisation. This is an important intermediate step in calculating the thermopysical properties, and may also be useful in its own right if one is interested in the relative proportions of different species in complex plasmas. It is exposed to the user in the minplascalc API.\n",
    "\n",
    "To start, recall the definition of Gibbs free energy:\n",
    "\n",
    "$$G = G^0 + \\sum_i \\mu_i N_i$$\n",
    "\n",
    "where $G$ is the Gibbs free energy of a system, $G^0$ is a reference value depending only on temperature and pressure, $\\mu_i$ is the chemical potential of species i, and $N_i$ is the absolute number of particles of species i present. In terms of statistical mechanics properties, $\\mu_i$ can be represented as:\n",
    "\n",
    "$$\\mu_i = E_i^0 - k_B T \\ln \\left ( \\frac{Q_{tot,i}V}{N_i} \\right )$$\n",
    "\n",
    "where $Q$ is the partition function defined earlier, $E_i^0$ is the reference energy of the species relative to its constituent uncharged atoms (for uncharged monatomic species and electrons $E_i^0=0$, for uncharged diatomic species it is the negative of the dissociation energy, and for charged species it is $E_i^0$ of the species with one fewer charge number plus the lowered ionisation energy of that species), and $V$ is the volume of the system. From the ideal gas law, we have:\n",
    "\n",
    "$$V = \\frac{k_B T \\sum_i N_i}{p}$$\n",
    "\n",
    "where p is the specified pressure of the system. \n",
    "\n",
    "A system at equilibrium is characterised by a minimum stationary point in $G$, giving an independent equation for each species i which simplifies to:\n",
    "\n",
    "$$\\frac{\\partial G}{\\partial N_i} = \\mu_i = 0$$\n",
    "\n",
    "This set of equations must be solved subject to constraints supplied by the conservation of mass of each element present:\n",
    "\n",
    "$$\\sum_i v_{ij} N_i = \\eta_j^0$$\n",
    "\n",
    "where $v_{ij}$ is the stoichiometric coefficient representing the number of atoms of element j present in species i, and $\\eta_j^0$ is the (fixed) total number of atoms of element j present in the system, obtained from initial conditions. Together with this, one additional constraint is supplied by the requirement for electroneutrality of the plasma:\n",
    "\n",
    "$$\\sum_i z_i N_i = 0$$\n",
    "\n",
    "In minplascalc, the previous three sets of equations are solved using an iterative Lagrange multiplier approach to obtain the set of $N_i$ (and hence $n_i = N_i / V$) at LTE starting from an initial guess."
   ]
  },
  {
   "cell_type": "markdown",
   "metadata": {},
   "source": [
    "## 3. Worked examples\n",
    "\n",
    "Some examples and walk-throughs demonstrating how to use various parts of the minplascalc package follow.\n",
    "\n",
    "### 3.1 Adding a new species entry to your local data store\n",
    "\n",
    "If you would like to do calculations using a plasma species that you haven't used before, you will need to generate a minplascalc data entry for it first. You only need to do this <i>once</i> - minplascalc will store the species data in a plain-text file formatted using JSON syntax, and it will then be available for use in any of your future calculations.\n",
    "\n",
    "<a id=\"3.1a\"></a>\n",
    "#### 3.1a Add a monatomic species\n",
    "\n",
    "minplascalc has built-in readers for handling data obtained from the energy levels section of NIST Atomic Spectra Database, which can be found at http://physics.nist.gov/PhysRefData/ASD/levels_form.html. The landing page looks like this:\n",
    "\n",
    "<img src=\"demoimg/asd_landingpage.png\" alt=\"NIST ASD landing page\" style=\"width: 800px;\"/>\n",
    "\n",
    "You must then specify the atom or ion that you want to retrieve energy level information for. Let's get the data for the singly-charged oxygen cation species O<sup>+</sup>, which is \"O II\" in spectrographic terminology. Enter the identifier in the Spectrum field on the form:\n",
    "\n",
    "<img src=\"demoimg/asd_spectrumidentification.png\" alt=\"Spectrum identification\" style=\"width: 400px;\"/>\n",
    "\n",
    "Make sure you set Level Units to \"cm-1\", Format Output to \"ASCII (text)\", and uncheck everything in the output section except Level and J, like this:\n",
    "\n",
    "<img src=\"demoimg/asd_retrievalsettings.png\" alt=\"Spectrum identification\" style=\"width: 400px;\"/>\n",
    "\n",
    "Click the Retrieve Data button. You should see a page with the energy levels listed in a plain-text table. Click and drag to select everything from the first energy level line down to the last one before the first ionisation energy entry (these have no J value and are separated in boxes of ASCII dashes). While you're there, make a note of the ionisation energy value.\n",
    "\n",
    "<table style=\"border:none!important\">\n",
    "<td><img src=\"demoimg/asd_leveldata1.png\" alt=\"Spectrum identification\" style=\"height: 400px;\"/>\n",
    "<td><img src=\"demoimg/asd_leveldata2.png\" alt=\"Spectrum identification\" style=\"height: 400px;\"/>\n",
    "<td><img src=\"demoimg/asd_leveldata3.png\" alt=\"Spectrum identification\" style=\"height: 400px;\"/>\n",
    "</table>\n",
    "\n",
    "Copy and paste the selected content into a temporary text file. This has already been done for the oxygen cation, and the raw NIST data file is located at minplascalc/data/species_raw/nist_O+. Running the following code snippet will add a data entry for the O<sup>+</sup> ion to minplascalc:"
   ]
  },
  {
   "cell_type": "code",
   "execution_count": 3,
   "metadata": {
    "collapsed": true
   },
   "outputs": [],
   "source": [
    "import minplascalc as mpc\n",
    "\n",
    "mpc.buildMonatomicSpeciesJSON(\n",
    "    name=\"O+\",\n",
    "    stoichiometry={\"O\": 1},\n",
    "    molarMass=0.0159994,\n",
    "    chargeNumber=1,\n",
    "    ionisationEnergy=283270.9,\n",
    "    nistDataFile=\"minplascalc/data/species_raw/nist_O+\")\n"
   ]
  },
  {
   "cell_type": "markdown",
   "metadata": {},
   "source": [
    "What's happening here? First we import the minplascalc package, then we call a function to build and save the species data entry for us. \n",
    "\n",
    "The function takes as arguments the species name (which is also used as the data entry's associated file name), a small dictionary describing the elemental stoichiometry of the species (in this case a single oxygen atom), the molar mass in kg/mol, the charge on the species in units of the fundamental charge (in this case 1 because O<sup>+</sup> is singly charged), the ionisation energy of the species in cm<sup>-1</sup>, and the path to the energy level text file we just generated from the NIST site. Internally to minplascalc the function reads the energy levels from the text file, assembles the species information into a Python dictionary format, and writes it out to a JSON file called \"O+.json\" on the path you're running this notebook from.\n",
    "\n",
    "After this process it will be possible to create an O<sup>+</sup> species object in any minplascalc calculation by importing it using either the explicit path to the JSON file, or (preferably) just the name of the species provided the JSON file is stored in any of the standard minplascalc data paths - see later demos for examples."
   ]
  },
  {
   "cell_type": "markdown",
   "metadata": {},
   "source": [
    "<a id=\"3.1b\"></a>\n",
    "#### 3.1b Diatomic species\n",
    "\n",
    "The procedure for generating a minplascalc data entry for a new diatomic species is more manual since the data required must be retrieved from various locations. The majority of data for a wide range of species is available from the NIST Chemistry WebBook, http://webbook.nist.gov/chemistry/form-ser/. Enter the formula for the diatomic species you're interested in in the search box at the top of the page, and click the Search button. If you're looking for data for charged diatomic ions, make sure the \"Exclude ions from the search\" box is unchecked. Let's build a data entry for Silicon Monoxide, SiO:\n",
    "\n",
    "<table>\n",
    "<td><img src=\"demoimg/webbook_landingpage.png\" alt=\"NIST Chemistry WebBook\" style=\"height: 300px;\"/>\n",
    "<td><img src=\"demoimg/webbook_sio.png\" alt=\"SiO WebBook entry\" style=\"height: 300px;\"/>\n",
    "</table>\n",
    "\n",
    "The first pieces of information needed are the ionisation energy (to turn SiO into SiO<sup>+</sup>) and the bond dissociation energy (to turn SiO into monatomic Si and O), both in units of cm<sup>-1</sup>. The ionisation energy can be found on the \"Gas phase ion energetics\" link on the Chemistry WebBook species page (usually in units of eV, so remember to convert):\n",
    "\n",
    "<img src=\"demoimg/webbook_ionenergetics.png\" alt=\"SiO ionisation energy\" style=\"width: 400px;\"/>\n",
    "\n",
    "The dissociation energy can be found either on the NIST Computational Chemistry Comparison and Benchmark Database (http://cccbdb.nist.gov/introx.asp), or alternatively from chemistry textbooks or other sources. In the case of SiO, the value is 66707.6 cm<sup>-1</sup> (approximately 800 kJ/mol).\n",
    "\n",
    "We then need some information about the electronic ground state of the molecule, and its vibrational and rotational parameters. To get this, go back to the main page for SiO in the Chemistry WebBook and click on \"Constants of diatomic molecules\". This gives the parameters of various energetic states of the molecule - we want the ground state with energy $T_e$ = 0, so scroll all the way down to the entry at the very bottom:\n",
    "\n",
    "<table>\n",
    "<td><img src=\"demoimg/webbook_constants1.png\" alt=\"Molecule constants\" style=\"height: 250px;\"/>\n",
    "<td><img src=\"demoimg/webbook_constants2.png\" alt=\"Ground state level entry\" style=\"height: 250px;\"/>\n",
    "</table>\n",
    "\n",
    "The electronic degeneracy of the ground state, $g_0$, is given by the superscriped number in the expression in the \"State\" column - in the case of SiO, it's 1. The vibrational constant $\\omega_e$ and rotational constant $B_e$ are read off the appropriate columns for the ground state entry. The symmetry constant $\\sigma_s$ takes the value of 1 for heteronuclear molecules like SiO, and 2 for homonuclear molecules like O<sub>2</sub>. Now we have all the information to build a minplascalc data entry for the SiO species, which can be done by running the following code snippet:"
   ]
  },
  {
   "cell_type": "code",
   "execution_count": 2,
   "metadata": {
    "collapsed": true
   },
   "outputs": [],
   "source": [
    "import minplascalc as mpc\n",
    "\n",
    "mpc.buildDiatomicSpeciesJSON(\n",
    "    name=\"SiO\",\n",
    "    stoichiometry={\"Si\": 1, \"O\": 1},\n",
    "    molarMass=0.0440849,\n",
    "    chargeNumber=0,\n",
    "    ionisationEnergy=92673.11,\n",
    "    dissociationEnergy=66707.6,\n",
    "    sigmaS=1,\n",
    "    g0=1,\n",
    "    we=1241.55,\n",
    "    Be=0.7267512)\n"
   ]
  },
  {
   "cell_type": "markdown",
   "metadata": {},
   "source": [
    "What's happening here? As before we import the minplascalc package, then we call a function to build and save the species data entry for us. \n",
    "\n",
    "The function takes as arguments the species name (which is also used as the data entry's associated file name), a small dictionary describing the elemental stoichiometry of the species (in this case one oxygen and one silicon), the molar mass in kg/mol, the charge on the species in units of the fundamental charge (in this case 0 because SiO is a neutral species), the ionisation and dissociation energies of the species in cm<sup>-1</sup>, and the electronic, vibrational, and rotational energy level parameters looked up from the Chemistry WebBook. Internally to minplascalc the function assembles the species information into a Python dictionary format, and writes it out to a JSON file called \"SiO.json\" on the path you're running this notebook from.\n",
    "\n",
    "After this process it will be possible to create an SiO species object in any minplascalc calculation by importing it using either the explicit path to the JSON file, or (preferably) just the name of the species provided the JSON file is stored in any of the standard minplascalc data paths - see later demos for examples."
   ]
  },
  {
   "cell_type": "markdown",
   "metadata": {
    "collapsed": true
   },
   "source": [
    "<a id=\"3.2\"></a>\n",
    "### 3.2 Calculating partition functions for individual species\n",
    "\n",
    "Let's calculate and graph the internal and translational partition functions of various oxygen plasma species over a range of temperatures. To do so, just execute the following code snippets in order. The text in between describes what each piece of code is doing. \n",
    "\n",
    "We start by importing the modules we need - matplotlib for drawing graphs, numpy for array functions, and of course minplascalc."
   ]
  },
  {
   "cell_type": "code",
   "execution_count": 47,
   "metadata": {
    "collapsed": false
   },
   "outputs": [],
   "source": [
    "%matplotlib inline \n",
    "import matplotlib.pyplot as plt\n",
    "import numpy as np\n",
    "import minplascalc as mpc"
   ]
  },
  {
   "cell_type": "markdown",
   "metadata": {},
   "source": [
    "Then, we create some species objects for different oxygen species using their names. This requires that the data files describing the species are stored in one of the minplascalc standard data storage paths."
   ]
  },
  {
   "cell_type": "code",
   "execution_count": 48,
   "metadata": {
    "collapsed": true
   },
   "outputs": [],
   "source": [
    "speciesnames = [\"O2\", \"O\", \"O+\", \"O++\"]\n",
    "species = [mpc.species_from_name(n) for n in speciesnames]"
   ]
  },
  {
   "cell_type": "markdown",
   "metadata": {},
   "source": [
    "Next, we specify a range of temperatures we're interested in calculating the partition functions at - in this case, from 1000 to 25000 K."
   ]
  },
  {
   "cell_type": "code",
   "execution_count": 49,
   "metadata": {
    "collapsed": true
   },
   "outputs": [],
   "source": [
    "temperatures = np.linspace(1000, 25000, 100)"
   ]
  },
  {
   "cell_type": "markdown",
   "metadata": {},
   "source": [
    "Then calculate the actual partition functions, using the <span style=\"font-family: 'Courier';\">translationalPartitionFunction(T)</span> and <span style=\"font-family: 'Courier';\">internalPartitionFunction(T)</span> functions of a minplascalc Species object. Both of these take temperature T in K as an argument."
   ]
  },
  {
   "cell_type": "code",
   "execution_count": 50,
   "metadata": {
    "collapsed": true
   },
   "outputs": [],
   "source": [
    "tpfuncs = [[sp.translationalPartitionFunction(temperature) \n",
    "            for temperature in temperatures]\n",
    "          for sp in species]\n",
    "ipfuncs = [[sp.internalPartitionFunction(temperature) \n",
    "            for temperature in temperatures]\n",
    "          for sp in species]"
   ]
  },
  {
   "cell_type": "markdown",
   "metadata": {},
   "source": [
    "Finally, to visualise the results, plot all the partition functions as a function of temperature over the range specified."
   ]
  },
  {
   "cell_type": "code",
   "execution_count": 51,
   "metadata": {
    "collapsed": false
   },
   "outputs": [
    {
     "data": {
      "image/png": "[encoded data removed]",
      "text/plain": [
       "<matplotlib.figure.Figure at 0x7fac9d5c30b8>"
      ]
     },
     "metadata": {},
     "output_type": "display_data"
    }
   ],
   "source": [
    "fig, (ax0, ax1) = plt.subplots(1, 2, figsize=(9,4))\n",
    "ax0.set_title(\"Translational partition functions\")\n",
    "ax0.set_xlabel(\"T, K\")\n",
    "ax0.set_ylabel(\"$\\mathregular{Q_t, m^{-3}}$\")\n",
    "for pf, sn in zip(tpfuncs, speciesnames):\n",
    "    ax0.semilogy(temperatures, pf, label=sn);\n",
    "ax1.set_title(\"Internal partition functions\")\n",
    "ax1.set_xlabel(\"T, K\")\n",
    "ax1.set_ylabel(\"$\\mathregular{Q_{int}}$\")\n",
    "for pf, sn in zip(ipfuncs, speciesnames):\n",
    "    ax1.semilogy(temperatures, pf, label=sn);\n",
    "ax1.legend(bbox_to_anchor=(1.4, 0.7));\n",
    "plt.tight_layout()"
   ]
  },
  {
   "cell_type": "markdown",
   "metadata": {},
   "source": [
    "<a id=\"3.3\"></a>\n",
    "### 3.3 Calculating equilibrium compositions for an O<sub>2</sub> plasma\n",
    "\n",
    "Calculations for plasmas consisting of species of a single element are a useful starting point because they are simple examples to illustrate the functionality of minplascalc, and their experimental and theoretical/calculated properties are very well documented in literature; they therefore make useful validation cases.\n",
    "\n",
    "In order to specify a plasma mixture in minplascalc, a small text file in the JSON format must be generated by the user. This file should contain a dictionary with the name of each species present in the plasma at equilibrium (this is generally all species for which data is available and which contain any of the elements present), and their initial mole fractions (which are used only to determine the initial particle counts for each element, $\\eta_i^0$). The electron species does not need to be explicitly specified - it is added automatically upon instantiation of a minplascalc Mixture object, since every plasma is assumed to contain free electrons.\n",
    "\n",
    "Let's look at the case of an oxygen plasma, which includes species O<sub>2</sub>, O<sub>2</sub><sup>+</sup>, O, O<sup>+</sup>, and O<sup>++</sup>. In this case the mixture file should look like this:\n",
    "    \n",
    "    {\n",
    "        \"name\": \"Pure oxygen plasma\",\n",
    "        \"speciesList\": \n",
    "        [\n",
    "            { \"species\": \"O2\", \"x0\": 1 },\n",
    "            { \"species\": \"O2+\", \"x0\": 0 },\n",
    "            { \"species\": \"O\", \"x0\": 0 },\n",
    "            { \"species\": \"O+\", \"x0\": 0 },\n",
    "            { \"species\": \"O++\", \"x0\": 0 }\n",
    "        ]\n",
    "    }\n",
    "\n",
    "Note that any set of initial mole fractions of the various species will give the same result provided they sum to unity - this is because oxygen is the only element present in the plasma. This file has already been generated and is available in the demo set of data packaged with minplascalc (at minplascalc/data/mixtures/OxygenPlasma.json). In order to calculate the composition of the plasma at various temperatures using these species, execute the following code snippets in order. The text in between indicates what each part of the code is doing.\n",
    "\n",
    "We start off by importing the modules we need - matplotlib for drawing graphs, numpy for array functions, and minplascalc itself."
   ]
  },
  {
   "cell_type": "code",
   "execution_count": 74,
   "metadata": {
    "collapsed": true
   },
   "outputs": [],
   "source": [
    "%matplotlib inline \n",
    "import matplotlib.pyplot as plt\n",
    "import numpy as np\n",
    "import minplascalc as mpc"
   ]
  },
  {
   "cell_type": "markdown",
   "metadata": {},
   "source": [
    "Next, we create a minplascalc Mixture object using the path to the mixture file. The temperature in K and pressure in Pa may optionally be specified in the constructor too, and will be initialised to those values."
   ]
  },
  {
   "cell_type": "code",
   "execution_count": 75,
   "metadata": {
    "collapsed": false
   },
   "outputs": [],
   "source": [
    "mixture = mpc.Mixture(str(mpc.MIXTUREPATH / \"OxygenPlasma.json\"), 1000, 101325)"
   ]
  },
  {
   "cell_type": "markdown",
   "metadata": {},
   "source": [
    "Next, set a range of temperatures to calculate the equilibrium compositions at - in this case we're going from 1000 to 25000 K in 50 steps. Also initialise a list to store the composition result at each temperature"
   ]
  },
  {
   "cell_type": "code",
   "execution_count": 76,
   "metadata": {
    "collapsed": true
   },
   "outputs": [],
   "source": [
    "temperatures = np.linspace(1000, 25000, 100)\n",
    "ni = [[] for j in range(len(mixture.species))]"
   ]
  },
  {
   "cell_type": "markdown",
   "metadata": {},
   "source": [
    "Now we're ready to actually perform the composition calculations. We loop over all the temperatures, setting the mixture object's temperature attribute to the appropriate value, initialising the species numbers using the Mixture object's <span style=\"font-family: 'Courier';\">initialiseNi(Ni)</span> function (which takes a list of the initial guesses of the $N_i$ value for each species), and calculating the LTE composition using the object's <span style=\"font-family: 'Courier';\">solveGfe()</span> function. Note that execution of this calculation is fairly compute intensive and the following code snippet may take a few seconds to complete."
   ]
  },
  {
   "cell_type": "code",
   "execution_count": 77,
   "metadata": {
    "collapsed": false
   },
   "outputs": [],
   "source": [
    "speciesnames = []\n",
    "for T in temperatures:\n",
    "    mixture.T = T\n",
    "    mixture.initialiseNi([1e20 for i in range(len(mixture.species))])\n",
    "    mixture.solveGfe()\n",
    "    for j, sp in enumerate(mixture.species):\n",
    "        ni[j].append(sp.numberDensity)\n",
    "        speciesnames.append(sp.name)"
   ]
  },
  {
   "cell_type": "markdown",
   "metadata": {},
   "source": [
    "Now we can visualise the results by plotting the plasma composition against temperature, to see how it varies."
   ]
  },
  {
   "cell_type": "code",
   "execution_count": 81,
   "metadata": {
    "collapsed": false
   },
   "outputs": [
    {
     "data": {
      "image/png": "[encoded data removed]",
      "text/plain": [
       "<matplotlib.figure.Figure at 0x7fac9e07a828>"
      ]
     },
     "metadata": {},
     "output_type": "display_data"
    }
   ],
   "source": [
    "fig, ax0 = plt.subplots(1, 1, figsize=(7.5, 5))\n",
    "ax0.set_title(\"$\\mathregular{O_2}$ LTE plasma composition with temperature at 1 atm\")\n",
    "ax0.set_xlabel(\"T, K\")\n",
    "ax0.set_ylabel(\"$\\mathregular{n_i, m^{-3}}$\")\n",
    "ax0.set_ylim(1e15, 5e25)\n",
    "for spn, sn in zip(ni, speciesnames):\n",
    "    ax0.semilogy(temperatures, spn, label=sn);\n",
    "ax0.legend(bbox_to_anchor=(1.2, 0.75));\n",
    "plt.tight_layout()"
   ]
  },
  {
   "cell_type": "markdown",
   "metadata": {},
   "source": [
    "The results obtained using minplascalc compare favourably with calculations by other authors, for example Boulos et al 1994 (see README for full reference). Some small deviations occur at lower concentration levels, but since these species are at concentrations more than six orders of magnitude smaller than the dominant components, the differences in actual plasma behaviour are expected to be small."
   ]
  },
  {
   "cell_type": "markdown",
   "metadata": {},
   "source": [
    "<a id=\"3.4\"></a>\n",
    "### 3.4 Calculating the density and heat capacity of an O<sub>2</sub> plasma\n",
    "\n",
    "[TODO]"
   ]
  },
  {
   "cell_type": "markdown",
   "metadata": {},
   "source": [
    "<a id=\"3.5\"></a>\n",
    "### 3.5 Calculating equilibrium compositions of a CO-SiO plasma\n",
    "\n",
    "[TODO]"
   ]
  },
  {
   "cell_type": "markdown",
   "metadata": {},
   "source": [
    "<a id=\"3.6\"></a>\n",
    "### 3.6 Calculating the density and heat capacity of a CO-SiO plasma\n",
    "\n",
    "[TODO]"
   ]
  }
 ],
 "metadata": {
  "kernelspec": {
   "display_name": "Python 3",
   "language": "python",
   "name": "python3"
  },
  "language_info": {
   "codemirror_mode": {
    "name": "ipython",
    "version": 3
   },
   "file_extension": ".py",
   "mimetype": "text/x-python",
   "name": "python",
   "nbconvert_exporter": "python",
   "pygments_lexer": "ipython3",
   "version": "3.5.2"
  }
 },
 "nbformat": 4,
 "nbformat_minor": 1
}
