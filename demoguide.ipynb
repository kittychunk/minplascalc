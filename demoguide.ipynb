{
 "cells": [
  {
   "cell_type": "markdown",
   "metadata": {},
   "source": [
    "# Demo guide for package minplascalc\n",
    "\n",
    "Welcome to minplascalc, a Python 3 package to assist with calculations of equilibrium compositions and thermophysical properties of thermal plasmas of the sort typically encountered in metallurgical processing applications.\n",
    "\n",
    "## 1. Target audience\n",
    "\n",
    "Plasma technology researchers and professionals with a basic knowledge of the Python programming language.\n",
    "\n",
    "## 2. Description\n",
    "\n",
    "Ionised gases or <i>plasmas</i> are used in many industrial applications such as arc welding, plasma spraying, and electric furnace metallurgy. Engineering plasmas typically operate at atmospheric pressures and temperatures of the order of 10<sup>4</sup> K. Thermal plasmas of the sort considered here are assumed to be in local thermodynamic equilibirum (LTE), meaning that a single unique temperature can be used to describe them (as opposed to two-temperature plasmas in which the electron temperature is distinct from the heavy-particle temperature). A major advantage of the LTE approximation is that all thermophysical properties of an equilibrium mixture of an arbitrary number of plasma species can be expressed as (complicated) functions of temperature and pressure only.\n",
    "\n",
    "Knowledge of these thermophysical properties is of great value to engineers working in plasma technology. Such information is useful for simple design calculations, and is necessary input data for computational fluid dynamics and magnetohydrodynamics models of plasma systems. The calculation of composition and thence the thermophysical properties of a thermal plasma given some fundamental information about the species present is a well-understood but mathematically and numerically complex process - it is prone to error if performed manually, hence the need for this tool.\n",
    "\n",
    "Things you <b>can</b> calculate with minplascalc:\n",
    "* Statistical mechanics partition functions for individual species using information about the energy levels and excited states\n",
    "* Equilibrium plasma composition in terms of number densities of a specified mixture of species, using the principle of Gibbs free energy minimisation at a specified temperature and pressure\n",
    "* Density $\\rho$, (relative) enthalpy $H$, and heat capacity $C_P$ at equilibrium conditions\n",
    "\n",
    "Things you <b>can't</b> calculate with minplascalc:\n",
    "* Compositions or thermophysical properties of two-temperature plasmas\n",
    "* $C_P$ for arbitrary non-LTE compositions\n",
    "* Plasmas of complex molecules or molecular ions consisting of more than two atoms\n",
    "* Plasmas involving negatively-charged ions\n",
    "* Transport or thermal radiation properties (see future versions though)\n",
    "\n",
    "The package also includes some basic tools to format and import data for individual species obtained from the NIST Atomic Spectra and Chemistry WebBook databases, and store it for use by future simulations.\n",
    "\n",
    "## 3. Worked examples\n",
    "\n",
    "Some examples of how to use various parts of the minplascalc package follows.\n",
    "\n",
    "*General utilities and species calculations*\n",
    "* <a href=\"#3.1a\">Add a new monatomic species data entry</a>\n",
    "* <a href=\"#3.1b\">Add a new diatomic species data entry</a>\n",
    "* <a href=\"#3.2\">Calculate an internal partition function</a>\n",
    "\n",
    "*Example 1 - oxygen plasma*\n",
    "* <a href=\"#3.3\">Calculate an equilibrium composition</a>\n",
    "* <a href=\"#3.4\">Calcluate density and heat capacity at equilibrium</a>\n",
    "\n",
    "*Example 2 - silicon & carbon monoxide plasma*\n",
    "* <a href=\"#3.5\">Calculate an equilibrium composition</a>\n",
    "* <a href=\"#3.6\">Calcluate density and heat capacity at equilibrium</a>"
   ]
  },
  {
   "cell_type": "markdown",
   "metadata": {},
   "source": [
    "### 3.1 Adding a new species entry to your local data store\n",
    "\n",
    "If you would like to do calculations using a plasma species that you haven't used before, you will need to generate a minplascalc data entry for it first. You only need to do this <i>once</i> - minplascalc will store the species data in a plain-text file formatted using JSON syntax, and it will then be available for use in any of your future calculations.\n",
    "\n",
    "<a id=\"3.1a\"></a>\n",
    "#### 3.1a Add a monatomic species\n",
    "\n",
    "minplascalc has built-in readers for handling data obtained from the energy levels section of NIST Atomic Spectra Database, which can be found at http://physics.nist.gov/PhysRefData/ASD/levels_form.html. The landing page looks like this:\n",
    "\n",
    "<img src=\"demoimg/asd_landingpage.png\" alt=\"NIST ASD landing page\" style=\"width: 800px;\"/>\n",
    "\n",
    "You must then specify the atom or ion that you want to retrieve energy level information for. Let's get the data for the singly-charged oxygen cation species O<sup>+</sup>, which is \"O II\" in spectrographic terminology. Enter the identifier in the Spectrum field on the form:\n",
    "\n",
    "<img src=\"demoimg/asd_spectrumidentification.png\" alt=\"Spectrum identification\" style=\"width: 400px;\"/>\n",
    "\n",
    "Make sure you set Level Units to \"cm-1\", Format Output to \"ASCII (text)\", and uncheck everything in the output section except Level and J, like this:\n",
    "\n",
    "<img src=\"demoimg/asd_retrievalsettings.png\" alt=\"Spectrum identification\" style=\"width: 400px;\"/>\n",
    "\n",
    "Click the Retrieve Data button. You should see a page with the energy levels listed in a plain-text table. Click and drag to select everything from the first energy level line down to the last one before the first ionisation energy entry (these have no J value and are separated in boxes of ASCII dashes). While you're there, make a note of the ionisation energy value.\n",
    "\n",
    "<table style=\"border:none!important\">\n",
    "<td><img src=\"demoimg/asd_leveldata1.png\" alt=\"Spectrum identification\" style=\"height: 400px;\"/>\n",
    "<td><img src=\"demoimg/asd_leveldata2.png\" alt=\"Spectrum identification\" style=\"height: 400px;\"/>\n",
    "<td><img src=\"demoimg/asd_leveldata3.png\" alt=\"Spectrum identification\" style=\"height: 400px;\"/>\n",
    "</table>\n",
    "\n",
    "Copy and paste the selected content into a temporary text file. This has already been done for the oxygen cation, and the raw NIST data file is located at minplascalc/data/species_raw/nist_O+. Running the following code snippet will add a data entry for the O<sup>+</sup> ion to minplascalc:"
   ]
  },
  {
   "cell_type": "code",
   "execution_count": 3,
   "metadata": {
    "collapsed": true
   },
   "outputs": [],
   "source": [
    "import minplascalc as mpc\n",
    "\n",
    "mpc.buildMonatomicSpeciesJSON(\n",
    "    name=\"O+\",\n",
    "    stoichiometry={\"O\": 1},\n",
    "    molarMass=0.0159994,\n",
    "    chargeNumber=1,\n",
    "    ionisationEnergy=283270.9,\n",
    "    nistDataFile=\"minplascalc/data/species_raw/nist_O+\")\n"
   ]
  },
  {
   "cell_type": "markdown",
   "metadata": {},
   "source": [
    "What's happening here? First we import the minplascalc package, then we call a function to build and save the species data entry for us. \n",
    "\n",
    "The function takes as arguments the species name (which is also used as the data entry's associated file name), a small dictionary describing the elemental stoichiometry of the species (in this case a single oxygen atom), the molar mass in kg/mol, the charge on the species in units of the fundamental charge (in this case 1 because O<sup>+</sup> is singly charged), the ionisation energy of the species in cm<sup>-1</sup>, and the path to the energy level text file we just generated from the NIST site. Internally to minplascalc the function reads the energy levels from the text file, assembles the species information into a Python dictionary format, and writes it out to a JSON file called \"O+.json\" on the path you're running this notebook from.\n",
    "\n",
    "After this process it will be possible to create an O<sup>+</sup> species object in any minplascalc calculation by importing it using either the explicit path to the JSON file, or (preferably) just the name of the species provided the JSON file is stored in any of the standard minplascalc data paths - see later demos for examples."
   ]
  },
  {
   "cell_type": "markdown",
   "metadata": {},
   "source": [
    "<a id=\"3.1b\"></a>\n",
    "#### 3.1b Diatomic species\n",
    "\n",
    "The procedure for generating a minplascalc data entry for a new diatomic species is more manual since the data required must be retrieved from various locations. The majority of data for a wide range of species is available from the NIST Chemistry WebBook, http://webbook.nist.gov/chemistry/form-ser/. Enter the formula for the diatomic species you're interested in in the search box at the top of the page, and click the Search button. If you're looking for data for charged diatomic ions, make sure the \"Exclude ions from the search\" box is unchecked. Let's build a data entry for Silicon Monoxide, SiO:\n",
    "\n",
    "<table>\n",
    "<td><img src=\"demoimg/webbook_landingpage.png\" alt=\"NIST Chemistry WebBook\" style=\"height: 300px;\"/>\n",
    "<td><img src=\"demoimg/webbook_sio.png\" alt=\"SiO WebBook entry\" style=\"height: 300px;\"/>\n",
    "</table>\n",
    "\n",
    "The first pieces of information needed are the ionisation energy (to turn SiO into SiO<sup>+</sup>) and the bond dissociation energy (to turn SiO into monatomic Si and O), both in units of cm<sup>-1</sup>. The ionisation energy can be found on the \"Gas phase ion energetics\" link on the Chemistry WebBook species page (usually in units of eV, so remember to convert):\n",
    "\n",
    "<img src=\"demoimg/webbook_ionenergetics.png\" alt=\"SiO ionisation energy\" style=\"width: 400px;\"/>\n",
    "\n",
    "The dissociation energy can be found either on the NIST Computational Chemistry Comparison and Benchmark Database (http://cccbdb.nist.gov/introx.asp), or alternatively from chemistry textbooks or other sources. In the case of SiO, the value is 66707.6 cm<sup>-1</sup> (approximately 800 kJ/mol).\n",
    "\n",
    "We then need some information about the electronic ground state of the molecule, and its vibrational and rotational parameters. To get this, go back to the main page for SiO in the Chemistry WebBook and click on \"Constants of diatomic molecules\". This gives the parameters of various energetic states of the molecule - we want the ground state with energy $T_e$ = 0, so scroll all the way down to the entry at the very bottom:\n",
    "\n",
    "<table>\n",
    "<td><img src=\"demoimg/webbook_constants1.png\" alt=\"Molecule constants\" style=\"height: 250px;\"/>\n",
    "<td><img src=\"demoimg/webbook_constants2.png\" alt=\"Ground state level entry\" style=\"height: 250px;\"/>\n",
    "</table>\n",
    "\n",
    "The electronic degeneracy of the ground state, $g_0$, is given by the superscriped number in the expression in the \"State\" column - in the case of SiO, it's 1. The vibrational constant $\\omega_e$ and rotational constant $B_e$ are read off the appropriate columns for the ground state entry. The symmetry constant $\\sigma_s$ takes the value of 1 for heteronuclear molecules like SiO, and 2 for homonuclear molecules like O<sub>2</sub>. Now we have all the information to build a minplascalc data entry for the SiO species, which can be done by running the following code snippet:"
   ]
  },
  {
   "cell_type": "code",
   "execution_count": 2,
   "metadata": {
    "collapsed": true
   },
   "outputs": [],
   "source": [
    "import minplascalc as mpc\n",
    "\n",
    "mpc.buildDiatomicSpeciesJSON(\n",
    "    name=\"SiO\",\n",
    "    stoichiometry={\"Si\": 1, \"O\": 1},\n",
    "    molarMass=0.0440849,\n",
    "    chargeNumber=0,\n",
    "    ionisationEnergy=92673.11,\n",
    "    dissociationEnergy=66707.6,\n",
    "    sigmaS=1,\n",
    "    g0=1,\n",
    "    we=1241.55,\n",
    "    Be=0.7267512)\n"
   ]
  },
  {
   "cell_type": "markdown",
   "metadata": {},
   "source": [
    "What's happening here? As before we import the minplascalc package, then we call a function to build and save the species data entry for us. \n",
    "\n",
    "The function takes as arguments the species name (which is also used as the data entry's associated file name), a small dictionary describing the elemental stoichiometry of the species (in this case one oxygen and one silicon), the molar mass in kg/mol, the charge on the species in units of the fundamental charge (in this case 0 because SiO is a neutral species), the ionisation and dissociation energies of the species in cm<sup>-1</sup>, and the electronic, vibrational, and rotational energy level parameters looked up from the Chemistry WebBook. Internally to minplascalc the function assembles the species information into a Python dictionary format, and writes it out to a JSON file called \"SiO.json\" on the path you're running this notebook from.\n",
    "\n",
    "After this process it will be possible to create an SiO species object in any minplascalc calculation by importing it using either the explicit path to the JSON file, or (preferably) just the name of the species provided the JSON file is stored in any of the standard minplascalc data paths - see later demos for examples."
   ]
  },
  {
   "cell_type": "markdown",
   "metadata": {
    "collapsed": true
   },
   "source": [
    "<a id=\"3.2\"></a>\n",
    "### 3.2 Calculating partition functions for a single species\n",
    "\n",
    "Statistical mechanics partition functions for each of the species present are a core component of thermal plasma calculations. In general users of minplascalc should not need to access these functions explicitly as they are incorporated directly into the composition and thermophysical property calculators, but they are exposed in the API in case the need to do so ever arises.\n",
    "\n",
    "#### Partition function descriptions in minplascalc\n",
    "\n",
    "Recall that the partition function for a particular species is a description of the statistical properties of a collection of atoms or molecules of that species at thermodynamic equilibrium. Partition functions are generally presented as the sum of weighted state probabilities across the possible energy states of the system. In general at moderate plasma temperatures up to a few 10<sup>4</sup> K, a species' total partition function $Q_{tot}$ can be written as the product of several unique partition functions arising from different quantum mechanical phenomena (the weak-coupling approximation):\n",
    "\n",
    "$Q_{tot} = Q_t Q_{int} = Q_t Q_e Q_v Q_r$\n",
    "\n",
    "Here, $Q_t$ is the translational partition function due to the species' ability to move around in space, $Q_{int}$ is the internal partition function due to energy states internal to the particles of the species, $Q_e$ is the electronic partition function due to different possible arrangements of the electron structure of the species, $Q_v$ is the vibrational partition function due to the ability of the bonds in a polyatomic species to vibrate at different energy levels, and $Q_r$ is the rotational partition function due to a species' ability to rotate around its center of mass at different energy levels.\n",
    "\n",
    "minplascalc distinguishes between three different types of species - monatomic (single atoms and ions), diatomic (bonded pairs of atoms), and free electrons. The formulae used for the various partition functions for each are shown in the table below.\n",
    "\n",
    "<table style=\"width: 80%;\">\n",
    "<tr><td>Partition Function<td>Monatomic<td>Diatomic<td>Electron<tr>\n",
    "<td>$Q_t$, m<sup>-3</sup>\n",
    "<td>$${\\left ( \\frac{2 \\pi m_s k_B T}{h^2}\\right )}^{\\frac{3}{2}}$$\n",
    "<td>$${\\left ( \\frac{2 \\pi m_s k_B T}{h^2}\\right )}^{\\frac{3}{2}}$$\n",
    "<td>$${\\left ( \\frac{2 \\pi m_e k_B T}{h^2}\\right )}^{\\frac{3}{2}}$$<tr>\n",
    "<td>$Q_e$, dim'less\n",
    "<td>$$\\sum_j g_j \\exp \\left(-\\frac{E_j}{k_B T}\\right)$$\n",
    "<td>$$g_0$$\n",
    "<td>$$2$$<tr>\n",
    "<td>$Q_v$, dim'less\n",
    "<td>$$1$$\n",
    "<td>$$\\frac{1}{1-\\exp\\left( -\\frac{\\omega_e}{k_B T} \\right)}$$\n",
    "<td>$$1$$<tr>\n",
    "<td>$Q_r$, dim'less\n",
    "<td>$$1$$\n",
    "<td>$$\\frac{k_B T}{\\sigma_s B_e}$$\n",
    "<td>$$1$$</table>\n",
    "\n",
    "Here $m_s$ and $m_e$ are the mass of one particle of the species, $k_B$ is the Boltzmann constant, $T$ is temperature, $h$ is the Planck constant, $g_j$ and $E_j$ are the degeneracy and energy of energy level j, and $\\omega_e$ and $B_e$ are the vibrational and rotational constants respectively for a diatomic molecule.\n"
   ]
  },
  {
   "cell_type": "markdown",
   "metadata": {},
   "source": [
    "<a id=\"3.3\"></a>\n",
    "### 3.3 Calculating the composition of an equilibrium plasma\n",
    "\n",
    "[TODO]"
   ]
  },
  {
   "cell_type": "markdown",
   "metadata": {},
   "source": [
    "<a id=\"3.4\"></a>\n",
    "### 3.4 Calculating the density and heat capacity of an equilibrium plasma\n",
    "\n",
    "[TODO]"
   ]
  },
  {
   "cell_type": "code",
   "execution_count": null,
   "metadata": {
    "collapsed": true
   },
   "outputs": [],
   "source": []
  }
 ],
 "metadata": {
  "kernelspec": {
   "display_name": "Python 3",
   "language": "python",
   "name": "python3"
  },
  "language_info": {
   "codemirror_mode": {
    "name": "ipython",
    "version": 3
   },
   "file_extension": ".py",
   "mimetype": "text/x-python",
   "name": "python",
   "nbconvert_exporter": "python",
   "pygments_lexer": "ipython3",
   "version": "3.5.2"
  }
 },
 "nbformat": 4,
 "nbformat_minor": 1
}
